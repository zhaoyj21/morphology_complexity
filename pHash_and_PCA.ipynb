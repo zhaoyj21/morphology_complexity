{
 "cells": [
  {
   "cell_type": "code",
   "execution_count": 1,
   "metadata": {},
   "outputs": [],
   "source": [
    "import cv2\n",
    "import numpy as np\n",
    "import matplotlib.pyplot as plt \n",
    "from math import log,sqrt,pow\n",
    "import math\n",
    "import random\n",
    "from matplotlib.font_manager import FontProperties"
   ]
  },
  {
   "cell_type": "code",
   "execution_count": 2,
   "metadata": {},
   "outputs": [],
   "source": [
    "datanumber=2484\n",
    "def unpickle(file):\n",
    "    import pickle\n",
    "    with open(file,'rb')as fo:\n",
    "        dict =pickle.load(fo,encoding='bytes')\n",
    "        \n",
    "    return dict\n",
    "\n",
    "path='D:/ML-generate/imagecluster-v3/'\n",
    "\n",
    "data_array=np.zeros((2484,3072))\n",
    "\n",
    "cur_dict=unpickle(path+'data_batch_'+str(1))\n",
    "for j in range(2484):\n",
    "    data_array[j]=cur_dict[b'data'][j][:]       \n",
    "\n",
    "data_array=data_array.reshape(2484,3,32,32).transpose(0,2,3,1).astype('float32')"
   ]
  },
  {
   "cell_type": "code",
   "execution_count": 3,
   "metadata": {},
   "outputs": [],
   "source": [
    "def pHash(img):\n",
    "    gray=cv2.cvtColor(img,cv2.COLOR_BGR2GRAY)\n",
    "    h,w=gray.shape[:2]\n",
    "    vis0=np.zeros((h,w),np.float32)\n",
    "    vis0[:h,:w]=gray\n",
    "    \n",
    "    vis1=cv2.dct(vis0)\n",
    "    img_list=vis1.flatten()\n",
    "\n",
    "    avg=sum(img_list)*1./len(img_list)\n",
    "    avg_list=['0' if i <avg else '1' for i in img_list] \n",
    "\n",
    "    hash=''.join(['%x '% int(''.join(avg_list[x:x+4]),2)for x in range(0,32*32,4)])\n",
    "    hash1=[int(x,16) for x in hash.split()]\n",
    "    return hash1"
   ]
  },
  {
   "cell_type": "code",
   "execution_count": 4,
   "metadata": {},
   "outputs": [],
   "source": [
    "feature=[]\n",
    "for i in range(datanumber):\n",
    "    img=data_array[i,:,:,:].astype('uint8')\n",
    "    feature.append(pHash(img))"
   ]
  },
  {
   "cell_type": "code",
   "execution_count": 5,
   "metadata": {},
   "outputs": [
    {
     "name": "stdout",
     "output_type": "stream",
     "text": [
      "[[ 18.41164589 -12.48989569   8.80026512]\n",
      " [ -3.8954062   -6.81529293  -1.00933754]\n",
      " [  3.45423598  -7.66388448   0.29602388]\n",
      " ...\n",
      " [ 10.53653911 -12.81979774 -11.72848991]\n",
      " [  3.95233759   4.23905574  -2.57277818]\n",
      " [ 15.48806651   4.57597427   8.70465315]]\n"
     ]
    }
   ],
   "source": [
    "from sklearn.decomposition import PCA  \n",
    "pca = PCA(n_components=3)              \n",
    "newData = pca.fit_transform(feature)\n",
    "print(newData)\n",
    "\n",
    "p1=[]\n",
    "p2=[]\n",
    "p3=[]\n",
    "\n",
    "for i in range(datanumber):\n",
    "        p1.append(newData[i][0])\n",
    "        p2.append(newData[i][1])\n",
    "        p3.append(newData[i][2])\n",
    "        \n",
    "file=open('D:/ML-generate/imagecluster-v3/p1.txt','w')\n",
    "file.write(str(p1));\n",
    "file.close()\n",
    "file=open('D:/ML-generate/imagecluster-v3/p2.txt','w')\n",
    "file.write(str(p2));\n",
    "file.close()\n",
    "file=open('D:/ML-generate/imagecluster-v3/p3.txt','w')\n",
    "file.write(str(p3));\n",
    "file.close()\n"
   ]
  }
 ],
 "metadata": {
  "kernelspec": {
   "display_name": "Python 3 (ipykernel)",
   "language": "python",
   "name": "python3"
  },
  "language_info": {
   "codemirror_mode": {
    "name": "ipython",
    "version": 3
   },
   "file_extension": ".py",
   "mimetype": "text/x-python",
   "name": "python",
   "nbconvert_exporter": "python",
   "pygments_lexer": "ipython3",
   "version": "3.8.13"
  }
 },
 "nbformat": 4,
 "nbformat_minor": 4
}
